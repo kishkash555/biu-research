{
 "cells": [
  {
   "cell_type": "code",
   "execution_count": 43,
   "metadata": {},
   "outputs": [],
   "source": [
    "import numpy as np\n",
    "import torch\n",
    "import glob\n",
    "import pickle\n",
    "from scipy.spatial.distance import cosine\n",
    "import seaborn as sns"
   ]
  },
  {
   "cell_type": "code",
   "execution_count": 14,
   "metadata": {},
   "outputs": [
    {
     "data": {
      "text/plain": [
       "['results/result_data_e92199_000_000.pkl',\n",
       " 'results/result_data_e92199_000_001.pkl',\n",
       " 'results/result_data_e92199_000_002.pkl',\n",
       " 'results/result_data_e92199_000_003.pkl',\n",
       " 'results/result_data_e92199_000_004.pkl',\n",
       " 'results/result_data_e92199_000_005.pkl',\n",
       " 'results/result_data_e92199_000_006.pkl',\n",
       " 'results/result_data_e92199_000_007.pkl',\n",
       " 'results/result_data_e92199_000_008.pkl',\n",
       " 'results/result_data_e92199_000_009.pkl',\n",
       " 'results/result_data_e92199_000_010.pkl',\n",
       " 'results/result_data_e92199_000_011.pkl',\n",
       " 'results/result_data_e92199_000_012.pkl',\n",
       " 'results/result_data_e92199_000_013.pkl',\n",
       " 'results/result_data_e92199_000_014.pkl',\n",
       " 'results/result_data_e92199_000_015.pkl',\n",
       " 'results/result_data_e92199_000_016.pkl',\n",
       " 'results/result_data_e92199_000_017.pkl',\n",
       " 'results/result_data_e92199_000_018.pkl']"
      ]
     },
     "execution_count": 14,
     "metadata": {},
     "output_type": "execute_result"
    }
   ],
   "source": [
    "files = sorted(glob.glob('results/result_data_e92199_000*'))\n",
    "files"
   ]
  },
  {
   "cell_type": "code",
   "execution_count": 15,
   "metadata": {},
   "outputs": [],
   "source": [
    "with open(files[0],'rb') as a:\n",
    "    model_state_dict = pickle.load(a)"
   ]
  },
  {
   "cell_type": "code",
   "execution_count": 9,
   "metadata": {},
   "outputs": [
    {
     "data": {
      "text/plain": [
       "['0.weight', '0.bias', '3.weight', '3.bias']"
      ]
     },
     "execution_count": 9,
     "metadata": {},
     "output_type": "execute_result"
    }
   ],
   "source": [
    "list(model_state_dict.keys())\n"
   ]
  },
  {
   "cell_type": "code",
   "execution_count": 10,
   "metadata": {},
   "outputs": [
    {
     "data": {
      "text/plain": [
       "torch.Tensor"
      ]
     },
     "execution_count": 10,
     "metadata": {},
     "output_type": "execute_result"
    }
   ],
   "source": [
    "type(model_state_dict['0.weight'])\n"
   ]
  },
  {
   "cell_type": "code",
   "execution_count": 11,
   "metadata": {},
   "outputs": [
    {
     "data": {
      "text/plain": [
       "torch.Size([50, 784])"
      ]
     },
     "execution_count": 11,
     "metadata": {},
     "output_type": "execute_result"
    }
   ],
   "source": [
    "model_state_dict['0.weight'].shape"
   ]
  },
  {
   "cell_type": "code",
   "execution_count": 74,
   "metadata": {},
   "outputs": [],
   "source": [
    "def cosine_distances(a):\n",
    "    vecs = a.shape[0]\n",
    "    ret = np.full((vecs,vecs),np.nan)\n",
    "    for i in range(vecs):\n",
    "        for j in range(vecs):\n",
    "            ret[i,j] = cosine(a[i,:],a[j,:])\n",
    "            \n",
    "    return ret"
   ]
  },
  {
   "cell_type": "code",
   "execution_count": 69,
   "metadata": {},
   "outputs": [],
   "source": [
    "def cosines_and_magnitudes(a):\n",
    "    ata = a.dot(a.T)\n",
    "    vec_mags = np.sqrt(np.diag(ata))\n",
    "    denom = vec_mags[:,np.newaxis].dot(vec_mags[np.newaxis,:])\n",
    "    cosines = 1 - ata / denom\n",
    "    return cosines, vec_mags"
   ]
  },
  {
   "cell_type": "code",
   "execution_count": 19,
   "metadata": {},
   "outputs": [],
   "source": [
    "a0 = model_state_dict['0.weight'].numpy()"
   ]
  },
  {
   "cell_type": "code",
   "execution_count": 75,
   "metadata": {},
   "outputs": [],
   "source": [
    "cd1 = cosine_distances(a0)\n",
    "cd2, mags = cosines_and_magnitudes(a0)"
   ]
  },
  {
   "cell_type": "code",
   "execution_count": 76,
   "metadata": {},
   "outputs": [
    {
     "data": {
      "text/plain": [
       "((50, 50), (50, 50))"
      ]
     },
     "execution_count": 76,
     "metadata": {},
     "output_type": "execute_result"
    }
   ],
   "source": [
    "cd1.shape, cd2.shape"
   ]
  },
  {
   "cell_type": "code",
   "execution_count": 77,
   "metadata": {},
   "outputs": [
    {
     "data": {
      "text/plain": [
       "(0.9810761048517809, 0.9810762)"
      ]
     },
     "execution_count": 77,
     "metadata": {},
     "output_type": "execute_result"
    }
   ],
   "source": [
    "np.mean(cd1**2), np.mean(cd2**2)"
   ]
  },
  {
   "cell_type": "code",
   "execution_count": 42,
   "metadata": {},
   "outputs": [
    {
     "data": {
      "text/plain": [
       "array([[0.        , 0.97564746, 1.04742898],\n",
       "       [0.97564746, 0.        , 1.06969699],\n",
       "       [1.04742898, 1.06969699, 0.        ]])"
      ]
     },
     "execution_count": 42,
     "metadata": {},
     "output_type": "execute_result"
    }
   ],
   "source": [
    "w0_cd[:3,:3]"
   ]
  },
  {
   "cell_type": "code",
   "execution_count": 36,
   "metadata": {},
   "outputs": [
    {
     "data": {
      "text/plain": [
       "(975, 1.1228803545236588)"
      ]
     },
     "execution_count": 36,
     "metadata": {},
     "output_type": "execute_result"
    }
   ],
   "source": [
    "np.nanargmax(w0_cd),np.nanmax(w0_cd)"
   ]
  },
  {
   "cell_type": "code",
   "execution_count": 33,
   "metadata": {},
   "outputs": [
    {
     "data": {
      "text/plain": [
       "(50, 50)"
      ]
     },
     "execution_count": 33,
     "metadata": {},
     "output_type": "execute_result"
    }
   ],
   "source": [
    "w0_cd.shape\n"
   ]
  },
  {
   "cell_type": "code",
   "execution_count": 34,
   "metadata": {},
   "outputs": [
    {
     "data": {
      "text/plain": [
       "19.5"
      ]
     },
     "execution_count": 34,
     "metadata": {},
     "output_type": "execute_result"
    }
   ],
   "source": [
    "975/50"
   ]
  },
  {
   "cell_type": "code",
   "execution_count": 35,
   "metadata": {},
   "outputs": [
    {
     "data": {
      "text/plain": [
       "1.1228803545236588"
      ]
     },
     "execution_count": 35,
     "metadata": {},
     "output_type": "execute_result"
    }
   ],
   "source": [
    "w0_cd[19,25]"
   ]
  },
  {
   "cell_type": "code",
   "execution_count": 38,
   "metadata": {},
   "outputs": [
    {
     "data": {
      "text/plain": [
       "(-0.04077228, 0.33273777, 0.33087426)"
      ]
     },
     "execution_count": 38,
     "metadata": {},
     "output_type": "execute_result"
    }
   ],
   "source": [
    "np.dot(a0[19],a0[25]), np.dot(a0[19],a0[19]), np.dot(a0[25],a0[25])"
   ]
  },
  {
   "cell_type": "code",
   "execution_count": 57,
   "metadata": {},
   "outputs": [],
   "source": [
    "def fc_layer_stats(a):\n",
    "    cd = cosine_distances(a)\n",
    "    mins = np.nanmin(cd,axis=0)\n",
    "    mags = \n",
    "    return mins\n",
    "    sns.kdeplot(mins)"
   ]
  },
  {
   "cell_type": "code",
   "execution_count": 58,
   "metadata": {},
   "outputs": [],
   "source": [
    "ms = fc_layer_stats(a0)"
   ]
  },
  {
   "cell_type": "code",
   "execution_count": 59,
   "metadata": {},
   "outputs": [
    {
     "data": {
      "text/plain": [
       "(50,)"
      ]
     },
     "execution_count": 59,
     "metadata": {},
     "output_type": "execute_result"
    }
   ],
   "source": [
    "ms.shape"
   ]
  },
  {
   "cell_type": "code",
   "execution_count": 60,
   "metadata": {},
   "outputs": [
    {
     "data": {
      "text/plain": [
       "array([0.92354789, 0.92237563, 0.91776218, 0.94502495, 0.92999601,\n",
       "       0.92136713, 0.92269529, 0.94022095, 0.91581519, 0.9480301 ,\n",
       "       0.93141365, 0.93429696, 0.91398586, 0.9256597 , 0.91001678,\n",
       "       0.9398489 , 0.94693592, 0.88011195, 0.91343768, 0.90477876,\n",
       "       0.92081515, 0.85823467, 0.93937659, 0.91808303, 0.85823467,\n",
       "       0.94339843, 0.93435413, 0.89105272, 0.93562941, 0.89105272,\n",
       "       0.92651498, 0.90637997, 0.94195479, 0.92237563, 0.91165648,\n",
       "       0.90479688, 0.94317385, 0.88011195, 0.92999601, 0.90871148,\n",
       "       0.94317385, 0.93952371, 0.9104142 , 0.90871148, 0.9256597 ,\n",
       "       0.91398586, 0.91709655, 0.92591085, 0.9131918 , 0.91581519])"
      ]
     },
     "execution_count": 60,
     "metadata": {},
     "output_type": "execute_result"
    }
   ],
   "source": [
    "ms"
   ]
  },
  {
   "cell_type": "code",
   "execution_count": 61,
   "metadata": {},
   "outputs": [
    {
     "name": "stderr",
     "output_type": "stream",
     "text": [
      "/usr/local/anaconda3/lib/python3.7/site-packages/scipy/stats/stats.py:1713: FutureWarning: Using a non-tuple sequence for multidimensional indexing is deprecated; use `arr[tuple(seq)]` instead of `arr[seq]`. In the future this will be interpreted as an array index, `arr[np.array(seq)]`, which will result either in an error or a different result.\n",
      "  return np.add.reduce(sorted[indexer] * weights, axis=axis) / sumval\n"
     ]
    },
    {
     "data": {
      "text/plain": [
       "<matplotlib.axes._subplots.AxesSubplot at 0x7fdfbbae6d30>"
      ]
     },
     "execution_count": 61,
     "metadata": {},
     "output_type": "execute_result"
    },
    {
     "data": {
      "image/png": "[encoded data removed]",
      "text/plain": [
       "<Figure size 432x288 with 1 Axes>"
      ]
     },
     "metadata": {
      "needs_background": "light"
     },
     "output_type": "display_data"
    }
   ],
   "source": [
    "sns.kdeplot(ms)"
   ]
  },
  {
   "cell_type": "code",
   "execution_count": 65,
   "metadata": {},
   "outputs": [
    {
     "data": {
      "text/plain": [
       "(50, 1)"
      ]
     },
     "execution_count": 65,
     "metadata": {},
     "output_type": "execute_result"
    }
   ],
   "source": [
    "np.diag(w0_cd)[:,np.newaxis].shape"
   ]
  },
  {
   "cell_type": "code",
   "execution_count": null,
   "metadata": {},
   "outputs": [],
   "source": []
  }
 ],
 "metadata": {
  "kernelspec": {
   "display_name": "Python 3",
   "language": "python",
   "name": "python3"
  },
  "language_info": {
   "codemirror_mode": {
    "name": "ipython",
    "version": 3
   },
   "file_extension": ".py",
   "mimetype": "text/x-python",
   "name": "python",
   "nbconvert_exporter": "python",
   "pygments_lexer": "ipython3",
   "version": "3.7.1"
  }
 },
 "nbformat": 4,
 "nbformat_minor": 2
}
